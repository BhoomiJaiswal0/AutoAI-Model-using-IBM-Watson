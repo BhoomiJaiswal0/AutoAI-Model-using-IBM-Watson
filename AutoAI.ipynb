{
  "nbformat": 4,
  "nbformat_minor": 0,
  "metadata": {
    "colab": {
      "provenance": [],
      "authorship_tag": "ABX9TyP3feJs3a8w+GAPqCHn3MdO",
      "include_colab_link": true
    },
    "kernelspec": {
      "name": "python3",
      "display_name": "Python 3"
    },
    "language_info": {
      "name": "python"
    }
  },
  "cells": [
    {
      "cell_type": "markdown",
      "metadata": {
        "id": "view-in-github",
        "colab_type": "text"
      },
      "source": [
        "<a href=\"https://colab.research.google.com/github/BhoomiJaiswal0/AutoAI-Model-using-IBM-Watson/blob/main/AutoAI.ipynb\" target=\"_parent\"><img src=\"https://colab.research.google.com/assets/colab-badge.svg\" alt=\"Open In Colab\"/></a>"
      ]
    },
    {
      "cell_type": "code",
      "source": [
        "import requests\n",
        "import json\n",
        "\n",
        "\n",
        "# IBM Cloud API key\n",
        "API_KEY = \"mfPQR-a_ZEJbbq7mwBf5_UFZ3T5-gsj4Ab9YnohbJoM-\"\n",
        "\n",
        "\n",
        "# Step 1: Get access token\n",
        "token_response = requests.post(\n",
        "    'https://iam.cloud.ibm.com/identity/token',\n",
        "    data={\"apikey\": API_KEY, \"grant_type\": \"urn:ibm:params:oauth:grant-type:apikey\"}\n",
        ")\n",
        "\n",
        "\n",
        "mltoken = token_response.json()[\"access_token\"]\n",
        "\n",
        "\n",
        "# Step 2: Prepare header\n",
        "header = {\n",
        "    'Content-Type': 'application/json',\n",
        "    'Authorization': 'Bearer ' + mltoken\n",
        "}\n",
        "\n",
        "\n",
        "# Step 3: Define payload for scoring\n",
        "payload_scoring = {\n",
        "    \"input_data\": [\n",
        "        {\n",
        "            \"fields\": [\n",
        "                \"ID\", \"education_level\", \"years_experience\", \"job_title\", \"industry\",\n",
        "                \"location\", \"company_size\", \"certifications\", \"age\", \"working_hours\", \"crucial_code\"\n",
        "            ],\n",
        "            \"values\": [\n",
        "                [1, \"High School\", 12, \"Data Scientist\", \"Education\", \"New York\", \"Medium\", 1, 48, 52, \"XEV156\"],\n",
        "                [2, \"PhD\", 17, \"Data Scientist\", \"Education\", \"New York\", \"Large\", 4, 39, 34, \"IFK600\"],\n",
        "                [3, \"PhD\", 12, \"Software Engineer\", \"Education\", \"New York\", \"Large\", 2, 42, 34, \"DDI155\"],\n",
        "                [4, \"Masters\", 1, \"Analyst\", \"Healthcare\", \"Saudi\", \"Small\", 1, 18, 40, \"ZNH445\"],\n",
        "                [5, \"High School\", 8, \"Analyst\", \"Healthcare\", \"New York\", \"Small\", 2, 34, 37, \"EUL573\"],\n",
        "                [6, \"PhD\", 17, \"Manager\", \"Healthcare\", \"New York\", \"Large\", 3, 35, 37, \"ASK448\"],\n",
        "                [7, \"High School\", 6, \"Software Engineer\", \"Education\", \"New York\", \"Medium\", 2, 40, 43, \"ABC123\"],\n",
        "                [8, \"PhD\", 11, \"Data Scientist\", \"Education\", \"New York\", \"Large\", 1, 45, 42, \"XYZ456\"]\n",
        "            ]\n",
        "        }\n",
        "    ]\n",
        "}\n",
        "\n",
        "\n",
        "# Step 4: Send scoring request\n",
        "response_scoring = requests.post(\n",
        "    'https://au-syd.ml.cloud.ibm.com/ml/v4/deployments/9e4401cf-b394-4a1d-ae56-6354bf993831/predictions?version=2021-05-01',\n",
        "    json=payload_scoring,\n",
        "    headers=header\n",
        ")\n",
        "\n",
        "\n",
        "# Step 5: Handle and print response\n",
        "print(\"Scoring response:\")\n",
        "try:\n",
        "    print(json.dumps(response_scoring.json(), indent=2))\n",
        "except ValueError:\n",
        "    print(response_scoring.text)\n",
        "except Exception as e:\n",
        "    print(f\"An unexpected error occurred: {e}\")"
      ],
      "metadata": {
        "colab": {
          "base_uri": "https://localhost:8080/"
        },
        "id": "nJQzrHUU_KDL",
        "outputId": "f623d459-4bc0-47ce-d1bb-cd4a49359951"
      },
      "execution_count": 2,
      "outputs": [
        {
          "output_type": "stream",
          "name": "stdout",
          "text": [
            "Scoring response:\n",
            "{\n",
            "  \"predictions\": [\n",
            "    {\n",
            "      \"fields\": [\n",
            "        \"prediction\"\n",
            "      ],\n",
            "      \"values\": [\n",
            "        [\n",
            "          85625.0078125\n",
            "        ],\n",
            "        [\n",
            "          108542.390625\n",
            "        ],\n",
            "        [\n",
            "          89983.3515625\n",
            "        ],\n",
            "        [\n",
            "          66014.03125\n",
            "        ],\n",
            "        [\n",
            "          69310.7578125\n",
            "        ],\n",
            "        [\n",
            "          107118.8125\n",
            "        ],\n",
            "        [\n",
            "          67357.1015625\n",
            "        ],\n",
            "        [\n",
            "          98033.03125\n",
            "        ]\n",
            "      ]\n",
            "    }\n",
            "  ]\n",
            "}\n"
          ]
        }
      ]
    }
  ]
}